{
 "cells": [
  {
   "cell_type": "markdown",
   "id": "96e10ff5",
   "metadata": {},
   "source": [
    "\n",
    "This notebook demonstrates how to generate Elasticsearch SQL queries from natural language questions\n",
    "using the WatsonxWrapper for large language model inference, then execute those queries against an\n",
    "Elasticsearch cluster and display the results as a pandas DataFrame.\n"
   ]
  },
  {
   "cell_type": "code",
   "execution_count": null,
   "id": "e71e1c54",
   "metadata": {
    "lines_to_next_cell": 1
   },
   "outputs": [],
   "source": [
    "import os\n",
    "import json\n",
    "import warnings\n",
    "from datetime import datetime\n",
    "from typing import List, Dict, Any\n",
    "from IPython.display import display\n",
    "import pandas as pd\n",
    "from elasticsearch import Elasticsearch\n",
    "from dotenv import load_dotenv\n",
    "\n",
    "# We will ignore some warnings for cleaner output\n",
    "warnings.filterwarnings('ignore')"
   ]
  },
  {
   "cell_type": "code",
   "execution_count": null,
   "id": "fa6750ae",
   "metadata": {
    "lines_to_next_cell": 2
   },
   "outputs": [],
   "source": [
    "# 1. Load environment variables from the parent directory's .env file.\n",
    "\n",
    "def load_environment_vars() -> Dict[str, str]:\n",
    "    \"\"\"\n",
    "    Loads environment variables from the parent directory .env file.\n",
    "    \n",
    "    Returns:\n",
    "        Dict[str, str]: Dictionary with Elasticsearch connection details.\n",
    "    \"\"\"\n",
    "    parent_dir: str = os.path.abspath(os.path.join(os.getcwd(), os.pardir))\n",
    "    dotenv_path: str = os.path.join(parent_dir, '.env')\n",
    "    load_dotenv(dotenv_path)\n",
    "    return {\n",
    "        \"ES_URL\": os.getenv('ELASTIC_URL'),\n",
    "        \"ES_User_Name\": os.getenv('ELASTIC_USERNAME'),\n",
    "        \"ES_Password\": os.getenv('ELASTIC_PASSWORD')\n",
    "    }\n",
    "\n",
    "env_vars: Dict[str, str] = load_environment_vars()"
   ]
  },
  {
   "cell_type": "code",
   "execution_count": null,
   "id": "c26a93b8",
   "metadata": {},
   "outputs": [],
   "source": [
    "# 2. Create a global Elasticsearch client connection.\n",
    "\n",
    "es_client: Elasticsearch = Elasticsearch(\n",
    "    env_vars[\"ES_URL\"],\n",
    "    basic_auth=(env_vars[\"ES_User_Name\"], env_vars[\"ES_Password\"]),\n",
    "    verify_certs=False,\n",
    "    request_timeout=10000\n",
    ")\n",
    "\n",
    "# Check basic info to confirm connection\n",
    "es_info = es_client.info()\n",
    "print(\"Connected to Elasticsearch:\")\n",
    "print(es_info)"
   ]
  },
  {
   "cell_type": "code",
   "execution_count": null,
   "id": "3c5d235b",
   "metadata": {},
   "outputs": [],
   "source": [
    "# 3. Import the WatsonxWrapper and necessary classes to handle text generation.\n",
    "\n",
    "from watsonx_wrapper import WatsonxWrapper\n",
    "from prompts import esql_prompt\n",
    "from ibm_watsonx_ai.foundation_models.schema import TextGenParameters, TextGenDecodingMethod"
   ]
  },
  {
   "cell_type": "code",
   "execution_count": null,
   "id": "a9adf918",
   "metadata": {},
   "outputs": [],
   "source": [
    "\"\"\"\n",
    "Below is our list of 20 natural language questions about employees. We'll pass each question\n",
    "through the large language model to generate an Elasticsearch SQL query, and then execute that query.\n",
    "\"\"\"\n",
    "\n",
    "questions: List[str] = [\n",
    "    \"Which employees are part-time and have a Current Employee Rating above 3?\",\n",
    "    \"Show me all employees with a termination type of 'Involuntary'.\",\n",
    "    \"How many active employees are currently in 'Finance & Accounting'?\",\n",
    "    \"Who in 'Admin Offices' has 'Manager' in their JobFunctionDescription?\",\n",
    "    \"Which employees have a 'Voluntary' termination type?\",\n",
    "    \"Retrieve employees whose LocationCode is greater than 30000 and are Full-Time.\",\n",
    "    \"Show employees in the 'SVG' BusinessUnit with 'Exceeds' performance.\",\n",
    "    \"Which employees have an ExitDate not null and are still marked 'Active'?\",\n",
    "    \"List the top 5 employees by SCORE() in the 'WBL' BusinessUnit.\",\n",
    "    \"How many employees have a DOB before 1980 in 'IT/IS' department?\",\n",
    "    \"Get all employees whose MaritalDesc is 'Married' and State is 'NY'.\",\n",
    "    \"Which employees have a PayZone of 'Zone A' or 'Zone B'?\",\n",
    "    \"Find employees in 'EW' BusinessUnit who started after 2021-01-01.\",\n",
    "    \"Which employees have 'Temporary' EmployeeClassificationType in 'Executive Office'?\",\n",
    "    \"Show employees in 'IT Support' or 'Data Analyst' roles who are still Active.\",\n",
    "    \"How many employees in the 'Admin Offices' are Female with a rating above 4?\",\n",
    "    \"Retrieve all employees in 'Sales' who have an ExitDate after 1680307200000.\"\n",
    "]"
   ]
  },
  {
   "cell_type": "code",
   "execution_count": null,
   "id": "2aee8aaa",
   "metadata": {},
   "outputs": [],
   "source": [
    "# 4. Create a Watsonx client for text generation.\n",
    "\n",
    "watsonx_client: WatsonxWrapper = WatsonxWrapper(\n",
    "    model_id=\"meta-llama/llama-3-3-70b-instruct\",\n",
    "    params=TextGenParameters(\n",
    "        decoding_method=TextGenDecodingMethod.GREEDY,\n",
    "        max_new_tokens=1000,\n",
    "        min_new_tokens=1\n",
    "    )\n",
    ")"
   ]
  },
  {
   "cell_type": "code",
   "execution_count": null,
   "id": "8c0626b0",
   "metadata": {},
   "outputs": [],
   "source": [
    "\n",
    "todays_date: str = datetime.now().strftime(\"%Y-%m-%d\")\n",
    "todays_date"
   ]
  },
  {
   "cell_type": "code",
   "execution_count": null,
   "id": "bb20407d",
   "metadata": {},
   "outputs": [],
   "source": [
    "# 5. Load mapping (metadata about the Elasticsearch fields) from a local JSON file.\n",
    "\n",
    "todays_date: str = datetime.now().strftime(\"%Y-%m-%d\")\n",
    "index_name: str = \"employee_data\"\n",
    "\n",
    "with open(\"./data/metadata.json\", \"r\") as f:\n",
    "    mapping: Any = json.load(f)"
   ]
  },
  {
   "cell_type": "code",
   "execution_count": null,
   "id": "9658f2ed",
   "metadata": {},
   "outputs": [],
   "source": [
    "def extract_tag(text: str, tag: str = \"sql_query\") -> str:\n",
    "    \"\"\"\n",
    "    Extracts content enclosed within <tag> and </tag> from the given text.\n",
    "    \n",
    "    Args:\n",
    "        text (str): The text to parse.\n",
    "        tag  (str): The tag name to extract (default: 'sql_query').\n",
    "\n",
    "    Returns:\n",
    "        str: Extracted string or empty if not found.\n",
    "    \"\"\"\n",
    "    import re\n",
    "    match = re.search(fr\"<{tag}>\\s*(.*?)\\s*</{tag}>\", text, re.DOTALL)\n",
    "    return match.group(1) if match else \"\""
   ]
  },
  {
   "cell_type": "code",
   "execution_count": null,
   "id": "aadbeb3b",
   "metadata": {},
   "outputs": [],
   "source": [
    "def execute_esql_query(query: str) -> pd.DataFrame:\n",
    "    \"\"\"\n",
    "    Executes the given Elasticsearch SQL query and returns a pandas DataFrame.\n",
    "\n",
    "    Args:\n",
    "        query (str): The Elasticsearch SQL query.\n",
    "\n",
    "    Returns:\n",
    "        pd.DataFrame: The query results as a DataFrame.\n",
    "    \"\"\"\n",
    "    response = es_client.sql.query(body={\"query\": query}, fetch_size=10000)\n",
    "    cols = [col['name'] for col in response['columns']]\n",
    "    df = pd.DataFrame(response['rows'], columns=cols)\n",
    "    return df"
   ]
  },
  {
   "cell_type": "code",
   "execution_count": null,
   "id": "3115b949",
   "metadata": {},
   "outputs": [],
   "source": [
    "def generate_esql(question: str) -> str:\n",
    "    \"\"\"\n",
    "    Generates an Elasticsearch SQL query from a natural language question\n",
    "    using the watsonx_client and the pre-defined esql_prompt.\n",
    "\n",
    "    Args:\n",
    "        question (str): The user's natural language question.\n",
    "\n",
    "    Returns:\n",
    "        str: The generated Elasticsearch SQL query.\n",
    "    \"\"\"\n",
    "    formatted = esql_prompt.format(\n",
    "        user_query=question,\n",
    "        index_name=index_name,\n",
    "        todays_date=todays_date,\n",
    "        mapping=json.dumps(mapping, indent=1)\n",
    "    )\n",
    "    response = watsonx_client.generate_text(formatted)\n",
    "    return extract_tag(response, tag=\"sql_query\")"
   ]
  },
  {
   "cell_type": "code",
   "execution_count": null,
   "id": "f57a5ea1",
   "metadata": {},
   "outputs": [],
   "source": [
    "def run_all_questions(questions: List[str]) -> None:\n",
    "    \"\"\"\n",
    "    Iterates through all questions, generates and executes each query,\n",
    "    and displays the result DataFrame.\n",
    "    \n",
    "    Args:\n",
    "        questions (List[str]): List of natural language questions.\n",
    "    \"\"\"\n",
    "    for idx, question in enumerate(questions, start=1):\n",
    "        print(f\"\\n{'-'*60}\")\n",
    "        print(f\"Question {idx}: {question}\")\n",
    "        query = generate_esql(question)\n",
    "        print(f\"\\nGenerated SQL Query:\\n{query}\\n\")\n",
    "        if query.strip():\n",
    "            df = execute_esql_query(query)\n",
    "            if df.empty:\n",
    "                print(\"No results found.\")\n",
    "            else:\n",
    "                print(\"Query Results:\")\n",
    "                display(df)  # Display top 5 rows for brevity\n",
    "        else:\n",
    "            print(\"No query generated or query is empty.\")"
   ]
  },
  {
   "cell_type": "code",
   "execution_count": null,
   "id": "05d78ddf",
   "metadata": {},
   "outputs": [],
   "source": [
    "\"\"\"\n",
    "## Running All Questions\n",
    "Below, we call `run_all_questions(questions)` to automatically generate and execute queries\n",
    "for each of the 20 questions and display the first few results.\n",
    "\"\"\""
   ]
  },
  {
   "cell_type": "code",
   "execution_count": null,
   "id": "90aad7d5",
   "metadata": {},
   "outputs": [],
   "source": [
    "run_all_questions(questions)"
   ]
  },
  {
   "cell_type": "code",
   "execution_count": null,
   "id": "43b7ed02",
   "metadata": {},
   "outputs": [],
   "source": []
  }
 ],
 "metadata": {
  "jupytext": {
   "cell_metadata_filter": "-all",
   "main_language": "python",
   "notebook_metadata_filter": "-all"
  },
  "kernelspec": {
   "display_name": "env",
   "language": "python",
   "name": "python3"
  },
  "language_info": {
   "codemirror_mode": {
    "name": "ipython",
    "version": 3
   },
   "file_extension": ".py",
   "mimetype": "text/x-python",
   "name": "python",
   "nbconvert_exporter": "python",
   "pygments_lexer": "ipython3",
   "version": "-1.-1.-1"
  }
 },
 "nbformat": 4,
 "nbformat_minor": 5
}
